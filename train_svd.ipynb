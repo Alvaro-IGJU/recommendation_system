{
 "cells": [
  {
   "cell_type": "markdown",
   "metadata": {},
   "source": [
    "Paso 1: Carga y vista general de los datos principales"
   ]
  },
  {
   "cell_type": "markdown",
   "metadata": {},
   "source": [
    "1.1 Código para cargar datos desde SQLite"
   ]
  },
  {
   "cell_type": "code",
   "execution_count": 35,
   "metadata": {},
   "outputs": [],
   "source": [
    "import pandas as pd\n",
    "import sqlite3\n",
    "import numpy as np\n",
    "# Conexión a la base de datos\n",
    "conn = sqlite3.connect(\"instacart.db\")\n",
    "\n",
    "# Carga de tablas principales\n",
    "orders = pd.read_sql(\"SELECT * FROM orders\", conn)\n",
    "order_products_prior = pd.read_sql(\"SELECT * FROM order_products_prior\", conn)\n",
    "products = pd.read_sql(\"SELECT * FROM products\", conn)\n",
    "\n",
    "# Cierre de conexión si no vas a usar más queries SQL\n",
    "# conn.close()  # opcional si prefieres seguir con SQL\n"
   ]
  },
  {
   "cell_type": "markdown",
   "metadata": {},
   "source": [
    "1.2 Estadísticas iniciales"
   ]
  },
  {
   "cell_type": "code",
   "execution_count": 36,
   "metadata": {},
   "outputs": [
    {
     "name": "stdout",
     "output_type": "stream",
     "text": [
      "🧑‍🛒 Número de usuarios únicos: 206209\n",
      "📦 Número total de productos: 49688\n",
      "🧾 Número total de pedidos: 3421083\n",
      "📑 Número de líneas de pedidos en PRIOR: 32434489\n",
      "📊 Promedio de productos por pedido: 10.09\n"
     ]
    }
   ],
   "source": [
    "# Números clave\n",
    "print(\"🧑‍🛒 Número de usuarios únicos:\", orders['user_id'].nunique())\n",
    "print(\"📦 Número total de productos:\", products['product_id'].nunique())\n",
    "print(\"🧾 Número total de pedidos:\", orders['order_id'].nunique())\n",
    "print(\"📑 Número de líneas de pedidos en PRIOR:\", order_products_prior.shape[0])\n",
    "\n",
    "# Promedio de productos por pedido\n",
    "avg_products_per_order = order_products_prior.groupby(\"order_id\")[\"product_id\"].count().mean()\n",
    "print(\"📊 Promedio de productos por pedido:\", round(avg_products_per_order, 2))\n"
   ]
  },
  {
   "cell_type": "markdown",
   "metadata": {},
   "source": [
    "Paso 2: Análisis más profundo del dataset"
   ]
  },
  {
   "cell_type": "markdown",
   "metadata": {},
   "source": [
    "2.1 Frecuencia de compra por producto"
   ]
  },
  {
   "cell_type": "code",
   "execution_count": 37,
   "metadata": {},
   "outputs": [
    {
     "name": "stdout",
     "output_type": "stream",
     "text": [
      "🛍️ Productos más comprados:\n"
     ]
    },
    {
     "data": {
      "text/html": [
       "<div>\n",
       "<style scoped>\n",
       "    .dataframe tbody tr th:only-of-type {\n",
       "        vertical-align: middle;\n",
       "    }\n",
       "\n",
       "    .dataframe tbody tr th {\n",
       "        vertical-align: top;\n",
       "    }\n",
       "\n",
       "    .dataframe thead th {\n",
       "        text-align: right;\n",
       "    }\n",
       "</style>\n",
       "<table border=\"1\" class=\"dataframe\">\n",
       "  <thead>\n",
       "    <tr style=\"text-align: right;\">\n",
       "      <th></th>\n",
       "      <th>product_id</th>\n",
       "      <th>num_times_ordered</th>\n",
       "      <th>product_name</th>\n",
       "    </tr>\n",
       "  </thead>\n",
       "  <tbody>\n",
       "    <tr>\n",
       "      <th>0</th>\n",
       "      <td>24852</td>\n",
       "      <td>472565</td>\n",
       "      <td>Banana</td>\n",
       "    </tr>\n",
       "    <tr>\n",
       "      <th>1</th>\n",
       "      <td>13176</td>\n",
       "      <td>379450</td>\n",
       "      <td>Bag of Organic Bananas</td>\n",
       "    </tr>\n",
       "    <tr>\n",
       "      <th>2</th>\n",
       "      <td>21137</td>\n",
       "      <td>264683</td>\n",
       "      <td>Organic Strawberries</td>\n",
       "    </tr>\n",
       "    <tr>\n",
       "      <th>3</th>\n",
       "      <td>21903</td>\n",
       "      <td>241921</td>\n",
       "      <td>Organic Baby Spinach</td>\n",
       "    </tr>\n",
       "    <tr>\n",
       "      <th>4</th>\n",
       "      <td>47209</td>\n",
       "      <td>213584</td>\n",
       "      <td>Organic Hass Avocado</td>\n",
       "    </tr>\n",
       "    <tr>\n",
       "      <th>5</th>\n",
       "      <td>47766</td>\n",
       "      <td>176815</td>\n",
       "      <td>Organic Avocado</td>\n",
       "    </tr>\n",
       "    <tr>\n",
       "      <th>6</th>\n",
       "      <td>47626</td>\n",
       "      <td>152657</td>\n",
       "      <td>Large Lemon</td>\n",
       "    </tr>\n",
       "    <tr>\n",
       "      <th>7</th>\n",
       "      <td>16797</td>\n",
       "      <td>142951</td>\n",
       "      <td>Strawberries</td>\n",
       "    </tr>\n",
       "    <tr>\n",
       "      <th>8</th>\n",
       "      <td>26209</td>\n",
       "      <td>140627</td>\n",
       "      <td>Limes</td>\n",
       "    </tr>\n",
       "    <tr>\n",
       "      <th>9</th>\n",
       "      <td>27845</td>\n",
       "      <td>137905</td>\n",
       "      <td>Organic Whole Milk</td>\n",
       "    </tr>\n",
       "  </tbody>\n",
       "</table>\n",
       "</div>"
      ],
      "text/plain": [
       "   product_id  num_times_ordered            product_name\n",
       "0       24852             472565                  Banana\n",
       "1       13176             379450  Bag of Organic Bananas\n",
       "2       21137             264683    Organic Strawberries\n",
       "3       21903             241921    Organic Baby Spinach\n",
       "4       47209             213584    Organic Hass Avocado\n",
       "5       47766             176815         Organic Avocado\n",
       "6       47626             152657             Large Lemon\n",
       "7       16797             142951            Strawberries\n",
       "8       26209             140627                   Limes\n",
       "9       27845             137905      Organic Whole Milk"
      ]
     },
     "metadata": {},
     "output_type": "display_data"
    }
   ],
   "source": [
    "# Número total de veces que se ha comprado cada producto\n",
    "product_counts = order_products_prior['product_id'].value_counts().reset_index()\n",
    "product_counts.columns = ['product_id', 'num_times_ordered']\n",
    "\n",
    "# Unimos con nombres de productos\n",
    "product_stats = product_counts.merge(products[['product_id', 'product_name']], on='product_id')\n",
    "\n",
    "# Mostramos los 10 productos más comprados\n",
    "print(\"🛍️ Productos más comprados:\")\n",
    "display(product_stats.head(10))\n"
   ]
  },
  {
   "cell_type": "markdown",
   "metadata": {},
   "source": [
    "2.2 Actividad de los usuarios"
   ]
  },
  {
   "cell_type": "code",
   "execution_count": 38,
   "metadata": {},
   "outputs": [
    {
     "name": "stdout",
     "output_type": "stream",
     "text": [
      "📦 Promedio de pedidos por usuario: 16.59\n",
      "📦 Máximo de pedidos por usuario: 100\n",
      "📦 Mínimo de pedidos por usuario: 4\n"
     ]
    },
    {
     "data": {
      "image/png": "[encoded data removed]",
      "text/plain": [
       "<Figure size 800x400 with 1 Axes>"
      ]
     },
     "metadata": {},
     "output_type": "display_data"
    }
   ],
   "source": [
    "# Número de pedidos por usuario\n",
    "user_order_counts = orders.groupby('user_id')['order_id'].count()\n",
    "print(\"📦 Promedio de pedidos por usuario:\", round(user_order_counts.mean(), 2))\n",
    "print(\"📦 Máximo de pedidos por usuario:\", user_order_counts.max())\n",
    "print(\"📦 Mínimo de pedidos por usuario:\", user_order_counts.min())\n",
    "\n",
    "# Distribución de pedidos por usuario (opcional para gráfica)\n",
    "import matplotlib.pyplot as plt\n",
    "\n",
    "user_order_counts.hist(bins=50, figsize=(8, 4))\n",
    "plt.title(\"Distribución del número de pedidos por usuario\")\n",
    "plt.xlabel(\"Número de pedidos\")\n",
    "plt.ylabel(\"Usuarios\")\n",
    "plt.show()\n"
   ]
  },
  {
   "cell_type": "markdown",
   "metadata": {},
   "source": [
    "2.3 Revisión de nulos y duplicados\n",
    "\n"
   ]
  },
  {
   "cell_type": "code",
   "execution_count": 39,
   "metadata": {},
   "outputs": [
    {
     "name": "stdout",
     "output_type": "stream",
     "text": [
      "🧼 Nulos en ORDERS:\n",
      "order_id                       0\n",
      "user_id                        0\n",
      "eval_set                       0\n",
      "order_number                   0\n",
      "order_dow                      0\n",
      "order_hour_of_day              0\n",
      "days_since_prior_order    206209\n",
      "dtype: int64\n",
      "\n",
      "🧼 Nulos en ORDER_PRODUCTS_PRIOR:\n",
      "order_id             0\n",
      "product_id           0\n",
      "add_to_cart_order    0\n",
      "reordered            0\n",
      "dtype: int64\n",
      "\n",
      "🧼 Nulos en PRODUCTS:\n",
      "product_id       0\n",
      "product_name     0\n",
      "aisle_id         0\n",
      "department_id    0\n",
      "dtype: int64\n",
      "\n",
      "🔁 Duplicados en ORDER_PRODUCTS_PRIOR: 0\n",
      "🔁 Duplicados en ORDERS: 0\n",
      "🔁 Duplicados en PRODUCTS: 0\n"
     ]
    }
   ],
   "source": [
    "# Nulos\n",
    "print(\"🧼 Nulos en ORDERS:\")\n",
    "print(orders.isnull().sum())\n",
    "\n",
    "print(\"\\n🧼 Nulos en ORDER_PRODUCTS_PRIOR:\")\n",
    "print(order_products_prior.isnull().sum())\n",
    "\n",
    "print(\"\\n🧼 Nulos en PRODUCTS:\")\n",
    "print(products.isnull().sum())\n",
    "\n",
    "# Duplicados\n",
    "print(\"\\n🔁 Duplicados en ORDER_PRODUCTS_PRIOR:\", order_products_prior.duplicated().sum())\n",
    "print(\"🔁 Duplicados en ORDERS:\", orders.duplicated().sum())\n",
    "print(\"🔁 Duplicados en PRODUCTS:\", products.duplicated().sum())\n"
   ]
  },
  {
   "cell_type": "markdown",
   "metadata": {},
   "source": [
    "2.4 Productos que nunca se han comprado"
   ]
  },
  {
   "cell_type": "code",
   "execution_count": 40,
   "metadata": {},
   "outputs": [
    {
     "name": "stdout",
     "output_type": "stream",
     "text": [
      "❌ Número de productos que nunca se han comprado: 11\n"
     ]
    }
   ],
   "source": [
    "# Comprobamos productos no usados en prior\n",
    "productos_comprados = set(order_products_prior['product_id'])\n",
    "todos_los_productos = set(products['product_id'])\n",
    "productos_nunca_comprados = todos_los_productos - productos_comprados\n",
    "\n",
    "print(\"❌ Número de productos que nunca se han comprado:\", len(productos_nunca_comprados))\n"
   ]
  },
  {
   "cell_type": "markdown",
   "metadata": {},
   "source": [
    "Limpieza de nulls"
   ]
  },
  {
   "cell_type": "code",
   "execution_count": 41,
   "metadata": {},
   "outputs": [],
   "source": [
    "# Copia del dataframe\n",
    "orders_cleaned = orders.copy()\n",
    "\n",
    "# Usuarios con NaN y también con 0 en days_since_prior_order\n",
    "nan_and_zero_users = orders_cleaned.groupby('user_id')['days_since_prior_order'].apply(\n",
    "    lambda x: x.isnull().any() and (x == 0).any()\n",
    ").pipe(lambda s: s[s].index)\n",
    "\n",
    "# Eliminar solo los registros NaN de esos usuarios\n",
    "mask = (orders_cleaned['user_id'].isin(nan_and_zero_users)) & (orders_cleaned['days_since_prior_order'].isnull())\n",
    "orders_cleaned = orders_cleaned[~mask]\n",
    "\n",
    "# Para el resto, rellenamos los NaN con 0\n",
    "orders_cleaned['days_since_prior_order'] = orders_cleaned['days_since_prior_order'].fillna(0)\n"
   ]
  },
  {
   "cell_type": "markdown",
   "metadata": {},
   "source": [
    "Paso 3: Filtrar productos nunca comprados"
   ]
  },
  {
   "cell_type": "code",
   "execution_count": 42,
   "metadata": {},
   "outputs": [
    {
     "name": "stdout",
     "output_type": "stream",
     "text": [
      "✅ Nuevo número de productos tras filtrar: 49677\n"
     ]
    }
   ],
   "source": [
    "# Filtramos el dataframe de productos\n",
    "products = products[products['product_id'].isin(productos_comprados)].reset_index(drop=True)\n",
    "\n",
    "print(\"✅ Nuevo número de productos tras filtrar:\", products.shape[0])\n"
   ]
  },
  {
   "cell_type": "markdown",
   "metadata": {},
   "source": [
    "Paso 4: Crear la matriz usuario-producto para SVD"
   ]
  },
  {
   "cell_type": "code",
   "execution_count": null,
   "metadata": {},
   "outputs": [
    {
     "name": "stdout",
     "output_type": "stream",
     "text": [
      "🎯 Vista previa de la matriz usuario-producto:\n"
     ]
    },
    {
     "data": {
      "text/html": [
       "<div>\n",
       "<style scoped>\n",
       "    .dataframe tbody tr th:only-of-type {\n",
       "        vertical-align: middle;\n",
       "    }\n",
       "\n",
       "    .dataframe tbody tr th {\n",
       "        vertical-align: top;\n",
       "    }\n",
       "\n",
       "    .dataframe thead th {\n",
       "        text-align: right;\n",
       "    }\n",
       "</style>\n",
       "<table border=\"1\" class=\"dataframe\">\n",
       "  <thead>\n",
       "    <tr style=\"text-align: right;\">\n",
       "      <th></th>\n",
       "      <th>user_id</th>\n",
       "      <th>product_id</th>\n",
       "      <th>rating</th>\n",
       "    </tr>\n",
       "  </thead>\n",
       "  <tbody>\n",
       "    <tr>\n",
       "      <th>0</th>\n",
       "      <td>1</td>\n",
       "      <td>196</td>\n",
       "      <td>10</td>\n",
       "    </tr>\n",
       "    <tr>\n",
       "      <th>1</th>\n",
       "      <td>1</td>\n",
       "      <td>10258</td>\n",
       "      <td>9</td>\n",
       "    </tr>\n",
       "    <tr>\n",
       "      <th>2</th>\n",
       "      <td>1</td>\n",
       "      <td>10326</td>\n",
       "      <td>1</td>\n",
       "    </tr>\n",
       "    <tr>\n",
       "      <th>3</th>\n",
       "      <td>1</td>\n",
       "      <td>12427</td>\n",
       "      <td>10</td>\n",
       "    </tr>\n",
       "    <tr>\n",
       "      <th>4</th>\n",
       "      <td>1</td>\n",
       "      <td>13032</td>\n",
       "      <td>3</td>\n",
       "    </tr>\n",
       "  </tbody>\n",
       "</table>\n",
       "</div>"
      ],
      "text/plain": [
       "   user_id  product_id  rating\n",
       "0        1         196      10\n",
       "1        1       10258       9\n",
       "2        1       10326       1\n",
       "3        1       12427      10\n",
       "4        1       13032       3"
      ]
     },
     "metadata": {},
     "output_type": "display_data"
    }
   ],
   "source": [
    "# Creamos el \"rating\" como el número de veces que un usuario ha comprado un producto\n",
    "user_product_ratings = order_products_prior.merge(orders[['order_id', 'user_id']], on='order_id')\n",
    "\n",
    "user_product_matrix = user_product_ratings.groupby(['user_id', 'product_id']).size().reset_index(name='rating')\n",
    "df = user_product_matrix.copy()\n",
    "\n",
    "print(\"🎯 Vista previa de la matriz usuario-producto:\")\n",
    "display(user_product_matrix.head())\n"
   ]
  },
  {
   "cell_type": "code",
   "execution_count": null,
   "metadata": {},
   "outputs": [],
   "source": [
    "# -------------------------------\n",
    "# Limpieza y preparación de datos\n",
    "# -------------------------------\n",
    "\n",
    "# Filtrar usuarios con pocas compras\n",
    "min_ratings_user = 5\n",
    "user_counts = df['user_id'].value_counts()\n",
    "df = df[df['user_id'].isin(user_counts[user_counts >= min_ratings_user].index)]\n",
    "\n",
    "# Filtrar productos con pocas compras\n",
    "min_ratings_product = 5\n",
    "product_counts = df['product_id'].value_counts()\n",
    "df = df[df['product_id'].isin(product_counts[product_counts >= min_ratings_product].index)]\n",
    "\n",
    "# (Opcional) Normalizar rating por usuario\n",
    "# df['rating'] = df.groupby('user_id')['rating'].transform(lambda x: x / x.max())\n",
    "\n",
    "# (Opcional) Transformación logarítmica suave\n",
    "# df['rating'] = np.log1p(df['rating'])\n",
    "\n",
    "# (Opcional) Limitar ratings muy altos para evitar outliers\n",
    "# df['rating'] = df['rating'].clip(upper=10)\n",
    "\n",
    "# Eliminar duplicados\n",
    "df.drop_duplicates(subset=['user_id', 'product_id'], keep='last', inplace=True)\n"
   ]
  },
  {
   "cell_type": "markdown",
   "metadata": {},
   "source": [
    "Paso 5: Entrenar un modelo SVD con Surprise\n"
   ]
  },
  {
   "cell_type": "markdown",
   "metadata": {},
   "source": [
    "5.2 Preparar los datos para Surprise"
   ]
  },
  {
   "cell_type": "code",
   "execution_count": 44,
   "metadata": {},
   "outputs": [],
   "source": [
    "from surprise import Dataset, Reader, SVD\n",
    "from surprise.model_selection import train_test_split\n",
    "from surprise import accuracy\n",
    "\n",
    "# Creamos el lector de datos\n",
    "reader = Reader(rating_scale=(1, user_product_matrix['rating'].max()))\n",
    "\n",
    "# Dataset en formato Surprise\n",
    "data = Dataset.load_from_df(user_product_matrix[['user_id', 'product_id', 'rating']], reader)\n",
    "\n",
    "# División en train/test\n",
    "trainset, testset = train_test_split(data, test_size=0.2, random_state=42)\n"
   ]
  },
  {
   "cell_type": "markdown",
   "metadata": {},
   "source": [
    "5.3 Entrenamiento del modelo SVD"
   ]
  },
  {
   "cell_type": "code",
   "execution_count": 45,
   "metadata": {},
   "outputs": [
    {
     "name": "stdout",
     "output_type": "stream",
     "text": [
      "RMSE: 3.4571\n",
      "MAE:  1.7628\n"
     ]
    }
   ],
   "source": [
    "# Modelo SVD\n",
    "model = SVD()\n",
    "\n",
    "# Entrenamos\n",
    "model.fit(trainset)\n",
    "\n",
    "# Predicción en test\n",
    "predictions = model.test(testset)\n",
    "\n",
    "# Métricas\n",
    "rmse = accuracy.rmse(predictions)\n",
    "mae = accuracy.mae(predictions)\n"
   ]
  },
  {
   "cell_type": "code",
   "execution_count": 46,
   "metadata": {},
   "outputs": [],
   "source": [
    "# from surprise.model_selection import GridSearchCV\n",
    "\n",
    "# param_grid = {\n",
    "#     'n_factors': [50, 100],\n",
    "#     'n_epochs': [20, 30],\n",
    "#     'lr_all': [0.002, 0.005],\n",
    "#     'reg_all': [0.02, 0.1]\n",
    "# }\n",
    "\n",
    "# gs = GridSearchCV(SVD, param_grid, measures=['rmse'], cv=3)\n",
    "# gs.fit(data)\n",
    "\n",
    "# print(gs.best_score['rmse'])\n",
    "# print(gs.best_params['rmse'])\n"
   ]
  },
  {
   "cell_type": "code",
   "execution_count": 47,
   "metadata": {},
   "outputs": [],
   "source": [
    "# model = SVD(**gs.best_params['rmse'])  # o SVD() si no usas GridSearch\n",
    "# model.fit(trainset)\n"
   ]
  },
  {
   "cell_type": "code",
   "execution_count": 56,
   "metadata": {},
   "outputs": [
    {
     "data": {
      "text/plain": [
       "<surprise.prediction_algorithms.matrix_factorization.SVD at 0x7e256b689250>"
      ]
     },
     "execution_count": 56,
     "metadata": {},
     "output_type": "execute_result"
    }
   ],
   "source": [
    "from surprise import SVD\n",
    "\n",
    "model = SVD(\n",
    "    n_factors=100,\n",
    "    n_epochs=30,\n",
    "    lr_all=0.005,\n",
    "    reg_all=0.02\n",
    ")\n",
    "model.fit(trainset)\n"
   ]
  },
  {
   "cell_type": "code",
   "execution_count": 57,
   "metadata": {},
   "outputs": [
    {
     "data": {
      "text/plain": [
       "['svd_instacart_model.pkl']"
      ]
     },
     "execution_count": 57,
     "metadata": {},
     "output_type": "execute_result"
    }
   ],
   "source": [
    "import joblib\n",
    "\n",
    "# Guardar el modelo entrenado\n",
    "joblib.dump(model, \"svd_instacart_model.pkl\")\n"
   ]
  },
  {
   "cell_type": "code",
   "execution_count": 58,
   "metadata": {},
   "outputs": [
    {
     "name": "stdout",
     "output_type": "stream",
     "text": [
      "RMSE: 3.4942\n",
      "MAE:  1.7927\n"
     ]
    }
   ],
   "source": [
    "predictions = model.test(testset)\n",
    "rmse = accuracy.rmse(predictions)\n",
    "mae = accuracy.mae(predictions)\n"
   ]
  },
  {
   "cell_type": "code",
   "execution_count": 59,
   "metadata": {},
   "outputs": [
    {
     "name": "stdout",
     "output_type": "stream",
     "text": [
      "Precision: 0.3654\n",
      "Recall: 0.3417\n",
      "F1-score: 0.3532\n"
     ]
    }
   ],
   "source": [
    "from sklearn.metrics import precision_score, recall_score, f1_score\n",
    "\n",
    "# Umbral para considerar una recomendación relevante\n",
    "threshold = 4\n",
    "\n",
    "# Convertimos predicciones a 1 (relevante) o 0 (no relevante)\n",
    "y_true = [1 if true_r >= threshold else 0 for (_, _, true_r, _, _) in predictions]\n",
    "y_pred = [1 if est >= threshold else 0 for (_, _, _, est, _) in predictions]\n",
    "\n",
    "# Métricas binarizadas\n",
    "precision = precision_score(y_true, y_pred)\n",
    "recall = recall_score(y_true, y_pred)\n",
    "f1 = f1_score(y_true, y_pred)\n",
    "\n",
    "print(f\"Precision: {precision:.4f}\")\n",
    "print(f\"Recall: {recall:.4f}\")\n",
    "print(f\"F1-score: {f1:.4f}\")\n"
   ]
  },
  {
   "cell_type": "markdown",
   "metadata": {},
   "source": [
    "5.4 Predicción para un usuario y producto concretos"
   ]
  },
  {
   "cell_type": "code",
   "execution_count": 52,
   "metadata": {},
   "outputs": [
    {
     "name": "stdout",
     "output_type": "stream",
     "text": [
      "Predicción de rating para user 567, producto 1234: 99\n"
     ]
    }
   ],
   "source": [
    "# Predicción: ¿cuánto le gustará el producto 1234 al usuario 567?\n",
    "uid = 567\n",
    "iid = 1234\n",
    "pred = model.predict(uid, iid)\n",
    "print(f\"Predicción de rating para user {uid}, producto {iid}: {pred.est}\")\n"
   ]
  },
  {
   "cell_type": "code",
   "execution_count": 53,
   "metadata": {},
   "outputs": [],
   "source": [
    "def get_user_recommendations(user_id, model, user_product_matrix, products_df, top_n=10):\n",
    "    # Productos ya comprados por el usuario\n",
    "    productos_comprados = user_product_matrix[user_product_matrix['user_id'] == user_id]['product_id'].tolist()\n",
    "\n",
    "    # Todos los productos posibles\n",
    "    todos_productos = products_df['product_id'].unique()\n",
    "\n",
    "    # Productos no comprados\n",
    "    productos_a_predecir = [pid for pid in todos_productos if pid not in productos_comprados]\n",
    "\n",
    "    # Predecimos el \"rating\" para cada uno de esos productos\n",
    "    predicciones = [model.predict(user_id, pid) for pid in productos_a_predecir]\n",
    "\n",
    "    # Ordenamos por mayor puntuación estimada\n",
    "    predicciones.sort(key=lambda x: x.est, reverse=True)\n",
    "\n",
    "    # Tomamos los top_n\n",
    "    top_preds = predicciones[:top_n]\n",
    "\n",
    "    # Juntamos con el nombre del producto\n",
    "    recomendaciones = pd.DataFrame([{\n",
    "        'product_id': pred.iid,\n",
    "        'predicted_rating': pred.est\n",
    "    } for pred in top_preds])\n",
    "\n",
    "    recomendaciones = recomendaciones.merge(products_df[['product_id', 'product_name']], on='product_id')\n",
    "\n",
    "    return recomendaciones\n"
   ]
  },
  {
   "cell_type": "code",
   "execution_count": 54,
   "metadata": {},
   "outputs": [
    {
     "name": "stdout",
     "output_type": "stream",
     "text": [
      "🔮 Recomendaciones para el usuario 194666:\n"
     ]
    },
    {
     "data": {
      "text/html": [
       "<div>\n",
       "<style scoped>\n",
       "    .dataframe tbody tr th:only-of-type {\n",
       "        vertical-align: middle;\n",
       "    }\n",
       "\n",
       "    .dataframe tbody tr th {\n",
       "        vertical-align: top;\n",
       "    }\n",
       "\n",
       "    .dataframe thead th {\n",
       "        text-align: right;\n",
       "    }\n",
       "</style>\n",
       "<table border=\"1\" class=\"dataframe\">\n",
       "  <thead>\n",
       "    <tr style=\"text-align: right;\">\n",
       "      <th></th>\n",
       "      <th>product_id</th>\n",
       "      <th>predicted_rating</th>\n",
       "      <th>product_name</th>\n",
       "    </tr>\n",
       "  </thead>\n",
       "  <tbody>\n",
       "    <tr>\n",
       "      <th>0</th>\n",
       "      <td>1</td>\n",
       "      <td>99</td>\n",
       "      <td>Chocolate Sandwich Cookies</td>\n",
       "    </tr>\n",
       "    <tr>\n",
       "      <th>1</th>\n",
       "      <td>2</td>\n",
       "      <td>99</td>\n",
       "      <td>All-Seasons Salt</td>\n",
       "    </tr>\n",
       "    <tr>\n",
       "      <th>2</th>\n",
       "      <td>3</td>\n",
       "      <td>99</td>\n",
       "      <td>Robust Golden Unsweetened Oolong Tea</td>\n",
       "    </tr>\n",
       "    <tr>\n",
       "      <th>3</th>\n",
       "      <td>4</td>\n",
       "      <td>99</td>\n",
       "      <td>Smart Ones Classic Favorites Mini Rigatoni Wit...</td>\n",
       "    </tr>\n",
       "    <tr>\n",
       "      <th>4</th>\n",
       "      <td>5</td>\n",
       "      <td>99</td>\n",
       "      <td>Green Chile Anytime Sauce</td>\n",
       "    </tr>\n",
       "    <tr>\n",
       "      <th>5</th>\n",
       "      <td>6</td>\n",
       "      <td>99</td>\n",
       "      <td>Dry Nose Oil</td>\n",
       "    </tr>\n",
       "    <tr>\n",
       "      <th>6</th>\n",
       "      <td>7</td>\n",
       "      <td>99</td>\n",
       "      <td>Pure Coconut Water With Orange</td>\n",
       "    </tr>\n",
       "    <tr>\n",
       "      <th>7</th>\n",
       "      <td>8</td>\n",
       "      <td>99</td>\n",
       "      <td>Cut Russet Potatoes Steam N' Mash</td>\n",
       "    </tr>\n",
       "    <tr>\n",
       "      <th>8</th>\n",
       "      <td>9</td>\n",
       "      <td>99</td>\n",
       "      <td>Light Strawberry Blueberry Yogurt</td>\n",
       "    </tr>\n",
       "    <tr>\n",
       "      <th>9</th>\n",
       "      <td>10</td>\n",
       "      <td>99</td>\n",
       "      <td>Sparkling Orange Juice &amp; Prickly Pear Beverage</td>\n",
       "    </tr>\n",
       "  </tbody>\n",
       "</table>\n",
       "</div>"
      ],
      "text/plain": [
       "   product_id  predicted_rating  \\\n",
       "0           1                99   \n",
       "1           2                99   \n",
       "2           3                99   \n",
       "3           4                99   \n",
       "4           5                99   \n",
       "5           6                99   \n",
       "6           7                99   \n",
       "7           8                99   \n",
       "8           9                99   \n",
       "9          10                99   \n",
       "\n",
       "                                        product_name  \n",
       "0                         Chocolate Sandwich Cookies  \n",
       "1                                   All-Seasons Salt  \n",
       "2               Robust Golden Unsweetened Oolong Tea  \n",
       "3  Smart Ones Classic Favorites Mini Rigatoni Wit...  \n",
       "4                          Green Chile Anytime Sauce  \n",
       "5                                       Dry Nose Oil  \n",
       "6                     Pure Coconut Water With Orange  \n",
       "7                  Cut Russet Potatoes Steam N' Mash  \n",
       "8                  Light Strawberry Blueberry Yogurt  \n",
       "9     Sparkling Orange Juice & Prickly Pear Beverage  "
      ]
     },
     "metadata": {},
     "output_type": "display_data"
    }
   ],
   "source": [
    "# Cambia este número por un user_id real de tu dataset\n",
    "user_id_ejemplo = user_product_matrix['user_id'].sample(1).values[0]\n",
    "\n",
    "recomendaciones = get_user_recommendations(user_id_ejemplo, model, user_product_matrix, products, top_n=10)\n",
    "print(f\"🔮 Recomendaciones para el usuario {user_id_ejemplo}:\")\n",
    "display(recomendaciones)\n"
   ]
  },
  {
   "cell_type": "code",
   "execution_count": 55,
   "metadata": {},
   "outputs": [
    {
     "name": "stdout",
     "output_type": "stream",
     "text": [
      "Hit Rate: 0.1350\n",
      "Recall@10: 0.4912\n"
     ]
    }
   ],
   "source": [
    "from collections import defaultdict\n",
    "from surprise import SVD, Dataset, Reader\n",
    "from surprise.model_selection import train_test_split\n",
    "from surprise import accuracy\n",
    "\n",
    "# Umbral de relevancia\n",
    "threshold = 4.0\n",
    "top_k = 10\n",
    "\n",
    "# Suponiendo que ya tienes estas predicciones hechas con el modelo entrenado SIN logaritmo:\n",
    "# predictions = model.test(testset)\n",
    "\n",
    "# --------------------------\n",
    "# Obtener Top-N por usuario\n",
    "# --------------------------\n",
    "def get_top_n(predictions, n=10):\n",
    "    top_n = defaultdict(list)\n",
    "    for uid, iid, true_r, est, _ in predictions:\n",
    "        top_n[uid].append((iid, est, true_r))\n",
    "    \n",
    "    # Ordenar y quedarnos con los n mejores\n",
    "    for uid, user_ratings in top_n.items():\n",
    "        user_ratings.sort(key=lambda x: x[1], reverse=True)\n",
    "        top_n[uid] = user_ratings[:n]\n",
    "    \n",
    "    return top_n\n",
    "\n",
    "top_n = get_top_n(predictions, n=top_k)\n",
    "\n",
    "# --------------------------\n",
    "# Métrica: Hit Rate\n",
    "# --------------------------\n",
    "def hit_rate(top_n, threshold=4.0):\n",
    "    hits = 0\n",
    "    total = 0\n",
    "    for uid, user_ratings in top_n.items():\n",
    "        for _, _, true_r in user_ratings:\n",
    "            if true_r >= threshold:\n",
    "                hits += 1\n",
    "            total += 1\n",
    "    return hits / total if total > 0 else 0\n",
    "\n",
    "# --------------------------\n",
    "# Métrica: Recall@N\n",
    "# --------------------------\n",
    "def recall_at_n(top_n, all_predictions, n=10, threshold=4.0):\n",
    "    relevant_per_user = defaultdict(set)\n",
    "    for uid, iid, true_r, est, _ in all_predictions:\n",
    "        if true_r >= threshold:\n",
    "            relevant_per_user[uid].add(iid)\n",
    "    \n",
    "    hits = 0\n",
    "    total_relevant = 0\n",
    "    for uid, user_ratings in top_n.items():\n",
    "        predicted_iids = [iid for iid, _, _ in user_ratings]\n",
    "        hits += len(set(predicted_iids) & relevant_per_user[uid])\n",
    "        total_relevant += len(relevant_per_user[uid])\n",
    "    \n",
    "    return hits / total_relevant if total_relevant > 0 else 0\n",
    "\n",
    "# --------------------------\n",
    "# Resultados\n",
    "# --------------------------\n",
    "hitrate = hit_rate(top_n, threshold=threshold)\n",
    "recalln = recall_at_n(top_n, predictions, n=top_k, threshold=threshold)\n",
    "\n",
    "print(f\"Hit Rate: {hitrate:.4f}\")\n",
    "print(f\"Recall@{top_k}: {recalln:.4f}\")\n",
    "\n"
   ]
  }
 ],
 "metadata": {
  "kernelspec": {
   "display_name": "venv",
   "language": "python",
   "name": "python3"
  },
  "language_info": {
   "codemirror_mode": {
    "name": "ipython",
    "version": 3
   },
   "file_extension": ".py",
   "mimetype": "text/x-python",
   "name": "python",
   "nbconvert_exporter": "python",
   "pygments_lexer": "ipython3",
   "version": "3.11.11"
  }
 },
 "nbformat": 4,
 "nbformat_minor": 2
}
